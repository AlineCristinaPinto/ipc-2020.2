{
 "cells": [
  {
   "cell_type": "markdown",
   "metadata": {
    "colab_type": "text",
    "id": "LK_lhZCZdSeN"
   },
   "source": [
    "<b>\n",
    "<br>\n",
    "<font size=\"5\"><p style=\"text-align: center;\">Introdução à Programação de Computadores</p></font>\n",
    "<br>\n",
    "<font size=\"5\"><p style=\"text-align: center;\">Atividade Interativa #10</p></font>\n",
    "</b>\n",
    "<br><br>\n",
    "<font size=\"4\"><b>Professores:</b>\n",
    "<br>\n",
    "Jefersson A. dos Santos - jefersson@dcc.ufmg.br\n",
    "<br>\n",
    "João Guilherme Maia de Menezes - jgmm@dcc.ufmg.br\n",
    "<br><br>\n",
    "</font>\n",
    "<hr>\n",
    "<br>\n",
    "<font size=\"3\">\n",
    "</font>\n",
    "\n",
    "# Estatísticas sobre gastos parlamentares \n",
    "------------------\n",
    "\n",
    "# 1. Introdução\n",
    "\n",
    "---------------\n",
    "\n",
    "A Cota para o Exercício da Atividade Parlamentar – CEAP (antiga verba indenizatória) é uma cota única mensal destinada a custear os gastos dos deputados exclusivamente vinculados ao exercício da atividade parlamentar.\n",
    "\n",
    "Nessa atividade prática você deverá implementar uma série de funções para geração de gráficos sobre os gastos parlamentares utilizando os dados publicamente disponíveis sobre as despesas do [CEAP](https://dadosabertos.camara.leg.br/swagger/api.html \"Arquivos - Despesas pela Cota para Exercício da Atividade Parlamentar\"). \n",
    "\n",
    "\n",
    "Você pode baixar os arquivos CSV do [site](https://dadosabertos.camara.leg.br/swagger/api.html) para a pasta **dados_parlamento** dentro do diretório onde se encontra o seu notebook (arquivo com extensão ipynb)\n",
    "\n",
    "Não altere o nome dos arquivos:\n",
    "* Ano-2009.csv\n",
    "* Ano-2010.csv\n",
    "* Ano-2011.csv\n",
    "* Ano-2012.csv\n",
    "* Ano-2013.csv\n",
    "* Ano-2014.csv\n",
    "* Ano-2015.csv\n",
    "* Ano-2016.csv\n",
    "* Ano-2017.csv\n",
    "\n",
    "As suas funções para leitura dos arquivos devem utilizar caminhos relativos.<br>\n",
    "Ou seja, para a leitura dos dados do arquivo Ano-2009.csv, por exemplo, o nome do arquivo passado para a função *open* deve ser \"dados_parlamento/Ano-2009.csv\". \n",
    "\n",
    "Não utilizar o caminho absoluto (por exemplo \"C:\\usuarios\\m1011\\documents\\tp2\\dados_parlamento\\Ano-2009.csv\") pois isso provavelmente impedirá que seu trabalho funcione em outra máquina além da sua.\n",
    "\n",
    "# 2. O que deve ser feito\n",
    "---------------\n",
    "\n",
    "Para manipulação dos dados, você deverá implementar pelo menos (sendo permitida a implementação de outras funções, caso necessário):\n",
    "<ol>\n",
    "<li>Uma função para leitura dos dados. **Atenção:** (1) Observe que os dados estão codificados em formato UTF-8; (2) Observe que os arquivos são grandes. Talvez não seja uma boa ideia ler tudo e colocar em uma única lista. **FEITO!**</li>\n",
    "<li>Uma função que retorna uma lista com os gastos totais da Câmara dos Deputados em um intervalo ('ano início' até 'ano fim').</li>\n",
    "<li>Uma função que retorna uma lista com os gastos totais de todos os parlamentares em um ano específico.</li>\n",
    "<li>Uma função que retorna os gastos médios totais dos parlamentares por partido para um ano específico.</li>\n",
    "<li>Uma função que retorna os gastos médios totais dos parlamentares por estado para um ano específico.</li>\n",
    "</ol>\n",
    "\n",
    "As funções deverão ser utilizadas para plotar:\n",
    "<ol>\n",
    "<li>Um gráfico ilustrando a evolução dos gastos das cotas da Câmara dos Deputados entre 2009 e 2019.</li>\n",
    "<li>Um gráfico de barras mostrando o total dos 20 parlamentares que mais gastaram em 2019.</li>\n",
    "<li>Um gráfico de barras por partido, mostrando os gastos médios de seus parlamentares no ano de 2019.</li>\n",
    "<li>Um gráfico de barras por estado, mostrando os gastos médios de seus parlamentares no ano de 2019.</li>\n",
    "</ol>\n",
    "\n",
    "No final, você deverá utilizar os gráficos para responder as seguintes perguntas:\n",
    "<ol>\n",
    "<li>Houve alguma redução nos gastos com o CEAP nos últimos anos em que o país vive uma crise de arrecadação?</li>\n",
    "<li>Quais os parlamentares mais caros no exercício de 2019?</li>\n",
    "<li>Quais os partidos que, na média, mais \"custam\" para o Brasil em termos de auxílios a parlamentares?</li>\n",
    "<li>Quais os estados, na média, mais \"custam\" para o Brasil em termos de auxílios a parlamentares? Pelas regras de liberação dos auxílios para viagem, o esperado é que os estados mais distantes do DF custem mais. </li>\n",
    "</ol>\n",
    "\n",
    "\n"
   ]
  },
  {
   "cell_type": "code",
   "execution_count": 0,
   "metadata": {
    "colab": {},
    "colab_type": "code",
    "id": "KQThUqEmdSee",
    "scrolled": false
   },
   "outputs": [],
   "source": [
    "# Criando a pasta\n",
    "!mkdir dados_parlamentares\n",
    "\n",
    "# Baixando os dados de 2019\n",
    "!wget http://www.camara.leg.br/cotas/Ano-2019.csv.zip\n",
    "!wget http://www.camara.leg.br/cotas/Ano-2018.csv.zip\n",
    "!wget http://www.camara.leg.br/cotas/Ano-2017.csv.zip\n",
    "!wget http://www.camara.leg.br/cotas/Ano-2016.csv.zip\n",
    "!wget http://www.camara.leg.br/cotas/Ano-2015.csv.zip\n",
    "!wget http://www.camara.leg.br/cotas/Ano-2014.csv.zip\n",
    "!wget http://www.camara.leg.br/cotas/Ano-2013.csv.zip\n",
    "!wget http://www.camara.leg.br/cotas/Ano-2012.csv.zip\n",
    "!wget http://www.camara.leg.br/cotas/Ano-2011.csv.zip\n",
    "!wget http://www.camara.leg.br/cotas/Ano-2010.csv.zip\n",
    "!wget http://www.camara.leg.br/cotas/Ano-2009.csv.zip\n",
    "\n",
    "!unzip Ano-2019.csv.zip\n",
    "!unzip Ano-2018.csv.zip\n",
    "!unzip Ano-2017.csv.zip\n",
    "!unzip Ano-2016.csv.zip\n",
    "!unzip Ano-2015.csv.zip\n",
    "!unzip Ano-2014.csv.zip\n",
    "!unzip Ano-2013.csv.zip\n",
    "!unzip Ano-2012.csv.zip\n",
    "!unzip Ano-2011.csv.zip\n",
    "!unzip Ano-2010.csv.zip\n",
    "!unzip Ano-2009.csv.zip\n",
    "\n",
    "!mv *.csv dados_parlamentares/\n"
   ]
  },
  {
   "cell_type": "code",
   "execution_count": 1,
   "metadata": {
    "colab": {},
    "colab_type": "code",
    "id": "tWCQFPNCdSeU"
   },
   "outputs": [],
   "source": [
    "# Funcao que le os dados de um arquivo CSV e retorna a lista de rótulos (nome das colunas) e os dados.\n",
    "# Estamos levando em consideracao que todos os dados do arquivo cabem na memória do computador.\n",
    "def le_dados(filename):\n",
    "    # Abrindo o arquivo. \n",
    "    # Utilizamos o parametro 'encoding' para indicar que o arquivo possui uma codificacao especifica. \n",
    "    # Isso garante que os acentos e caracteres especiais sejam lidos adequadamente.\n",
    "    #file = open(filename, 'r', encoding='ISO-8859-1')\n",
    "    file = open(filename, 'r', encoding='UTF-8')\n",
    "    \n",
    "    # Criando uma lista vazia para armazenar todos os dados do arquivo\n",
    "    dados = []\n",
    "    \n",
    "    # Para cada linha do arquivo, realizamos as seguintes operacoes: \n",
    "    # (1) removemos o caractere '\\n' do final da linha\n",
    "    # (2) substituimos as ',' por ';' para evitar problemas com a separacao da parte decimal de valores.\n",
    "    # (3) removemos as aspas extras\n",
    "    # (4) transformamos a linha em uma lista\n",
    "    # (5) adicionamos a lista de itens na lista 'dados'\n",
    "    for line in file:\n",
    "        #dados.append(line.rstrip().replace('\",\"','\";\"').replace('\"','').split(';'))\n",
    "        dados.append(line.rstrip().replace('\",\"','\";\"').split('\";\"'))\n",
    "        dados[-1][0]=dados[-1][0].replace('\"','')\n",
    "        dados[-1][-1]=dados[-1][-1].replace('\"','')\n",
    "        \n",
    "    # Separando a primeira linha do arquivo para uma lista separada de 'rotulos'\n",
    "    rotulos = dados.pop(0)\n",
    "    \n",
    "    return rotulos, dados"
   ]
  },
  {
   "cell_type": "code",
   "execution_count": 2,
   "metadata": {},
   "outputs": [],
   "source": [
    "# Bibliotecas\n",
    "\n",
    "import numpy as np\n",
    "import matplotlib.pyplot as plt\n",
    "\n",
    "from operator import itemgetter"
   ]
  },
  {
   "cell_type": "code",
   "execution_count": 3,
   "metadata": {
    "colab": {},
    "colab_type": "code",
    "id": "9pqa-dRDdSeb"
   },
   "outputs": [],
   "source": [
    "# Obtem dados dos arquivos csv de forma global\n",
    "\n",
    "rotulos, dados_2009 = le_dados(\"dados_parlamentares/Ano-2009.csv\")\n",
    "\n",
    "rotulos, dados_2010 = le_dados(\"dados_parlamentares/Ano-2010.csv\")\n",
    "\n",
    "rotulos, dados_2011 = le_dados(\"dados_parlamentares/Ano-2011.csv\")\n",
    "\n",
    "rotulos, dados_2012 = le_dados(\"dados_parlamentares/Ano-2012.csv\")\n",
    "\n",
    "rotulos, dados_2013 = le_dados(\"dados_parlamentares/Ano-2013.csv\")\n",
    "\n",
    "rotulos, dados_2014 = le_dados(\"dados_parlamentares/Ano-2014.csv\")\n",
    "\n",
    "rotulos, dados_2015 = le_dados(\"dados_parlamentares/Ano-2015.csv\")\n",
    "\n",
    "rotulos, dados_2016 = le_dados(\"dados_parlamentares/Ano-2016.csv\")\n",
    "\n",
    "rotulos, dados_2017 = le_dados(\"dados_parlamentares/Ano-2017.csv\")\n",
    "\n",
    "rotulos, dados_2018 = le_dados(\"dados_parlamentares/Ano-2018.csv\")\n",
    "\n",
    "rotulos, dados_2019 = le_dados(\"dados_parlamentares/Ano-2019.csv\")\n"
   ]
  },
  {
   "cell_type": "code",
   "execution_count": 4,
   "metadata": {},
   "outputs": [],
   "source": [
    "#Constantes \n",
    "# Verificado que as posições são as mesmas em todos os arquivos\n",
    "\n",
    "VALOR_GASTO = rotulos.index('vlrLiquido')\n",
    "PARLAMENTAR = rotulos.index('\\ufefftxNomeParlamentar')\n",
    "PARTIDO = rotulos.index('sgPartido')\n",
    "ESTADO = rotulos.index('sgUF')"
   ]
  },
  {
   "cell_type": "code",
   "execution_count": 5,
   "metadata": {},
   "outputs": [],
   "source": [
    "# (2) Função que retorna uma lista com os gastos totais da Câmara em um intervalo ('ano início', 'ano fim'):\n",
    "\n",
    "def buscar_gastos_totais(ano_inicio, ano_fim):\n",
    "    gastos = []\n",
    "    anos = np.arange(ano_inicio, ano_fim + 1)\n",
    "        \n",
    "    for ano in anos:\n",
    "        gasto_total = 0     \n",
    "        \n",
    "        for registro in globals()['dados_'+ str(ano)]:            \n",
    "            gasto_total += float(registro[VALOR_GASTO])\n",
    "            \n",
    "        gastos.append((ano, gasto_total))\n",
    "        \n",
    "    return gastos\n",
    "    \n",
    "#buscar_gastos_totais(2009, 2019)"
   ]
  },
  {
   "cell_type": "code",
   "execution_count": 11,
   "metadata": {
    "scrolled": true
   },
   "outputs": [],
   "source": [
    "# (3) Função que retorna uma lista com os gastos totais de todos os parlamentares em um ano específico:\n",
    "\n",
    "def converter_gastos_parlamentar_dicionario_para_tupla(dicionario):\n",
    "    gastos = []\n",
    "    \n",
    "    for parlamentar, gasto in dicionario.items():\n",
    "        gastos.append((parlamentar, gasto))\n",
    "        \n",
    "    return gastos\n",
    "\n",
    "def buscar_gastos_totais_por_parlamentar(ano):\n",
    "    gastos = {}\n",
    "    \n",
    "    for registro in globals()['dados_'+ str(ano)]:   \n",
    "        parlamentar = registro[PARLAMENTAR]      \n",
    "        valor_gasto = float(registro[VALOR_GASTO])\n",
    "        \n",
    "        gastos[parlamentar] = gastos.get(parlamentar, 0.0) + valor_gasto\n",
    "        \n",
    "    return converter_gastos_parlamentar_dicionario_para_tupla(gastos)\n",
    "        \n",
    "#buscar_gastos_totais_por_parlamentar(2019)"
   ]
  },
  {
   "cell_type": "code",
   "execution_count": 7,
   "metadata": {},
   "outputs": [],
   "source": [
    "# (4) Função que retorna os gastos médios totais dos parlamentares por partido para um ano específico:\n",
    "\n",
    "def converter_gastos_partido_dicionario_para_tupla(dicionario):\n",
    "    gastos = []\n",
    "    \n",
    "    for partido, parlamentares in dicionario.items():\n",
    "        media = sum(parlamentares.values()) / len(parlamentares)\n",
    "        gastos.append((partido, media))\n",
    "        \n",
    "    return gastos\n",
    "\n",
    "def buscar_gastos_totais_por_partido(ano):\n",
    "    gastos_partidos = {}\n",
    "    \n",
    "    for registro in globals()['dados_'+ str(ano)]: \n",
    "        partido = registro[PARTIDO]\n",
    "        parlamentar = registro[PARLAMENTAR]      \n",
    "        valor_gasto = float(registro[VALOR_GASTO])\n",
    "        \n",
    "        if partido != '':       \n",
    "            gastos_parlamentares = gastos_partidos.get(partido, {})\n",
    "            gastos_parlamentares[parlamentar] = gastos_parlamentares.get(parlamentar, 0.0) + valor_gasto\n",
    "            gastos_partidos[partido] = gastos_parlamentares\n",
    "        \n",
    "    return converter_gastos_partido_dicionario_para_tupla(gastos_partidos)\n",
    "    \n",
    "#buscar_gastos_totais_por_partido(2019)"
   ]
  },
  {
   "cell_type": "code",
   "execution_count": 8,
   "metadata": {},
   "outputs": [],
   "source": [
    "# (5) Função que retorna os gastos médios totais dos parlamentares por estado para um ano específico:\n",
    "\n",
    "def converter_gastos_estado_dicionario_para_tupla(dicionario):\n",
    "    gastos = []\n",
    "    \n",
    "    for estado, parlamentares in dicionario.items():\n",
    "        media = sum(parlamentares.values()) / len(parlamentares)\n",
    "        gastos.append((estado, media))\n",
    "        \n",
    "    return gastos\n",
    "\n",
    "def buscar_gastos_totais_por_estado(ano):\n",
    "    gastos_estados = {}\n",
    "    \n",
    "    for registro in globals()['dados_'+ str(ano)]: \n",
    "        estado = registro[ESTADO]\n",
    "        parlamentar = registro[PARLAMENTAR]      \n",
    "        valor_gasto = float(registro[VALOR_GASTO])\n",
    "        \n",
    "        if estado != '' and estado != 'NA':            \n",
    "            gastos_parlamentares = gastos_estados.get(estado, {})\n",
    "            gastos_parlamentares[parlamentar] = gastos_parlamentares.get(parlamentar, 0.0) + valor_gasto\n",
    "            gastos_estados[estado] = gastos_parlamentares \n",
    "    \n",
    "    return converter_gastos_estado_dicionario_para_tupla(gastos_estados)          \n",
    "            \n",
    "#buscar_gastos_totais_por_estado(2019)\n",
    "    "
   ]
  },
  {
   "cell_type": "code",
   "execution_count": 9,
   "metadata": {},
   "outputs": [
    {
     "data": {
      "image/png": "[encoded data removed]",
      "text/plain": [
       "<Figure size 432x288 with 1 Axes>"
      ]
     },
     "metadata": {
      "needs_background": "light"
     },
     "output_type": "display_data"
    }
   ],
   "source": [
    "# (1) Gráfico ilustrando a evolução dos gastos das cotas da Câmara dos Deputados entre 2009 e 2019:\n",
    "\n",
    "def criar_grafico_gastos_anos(dados):    \n",
    "    x = []\n",
    "    y = []\n",
    "    \n",
    "    for ano, gastos in dados:\n",
    "        x.append(ano)\n",
    "        y.append(gastos/(10**6)) # Em milhões\n",
    "\n",
    "    plt.plot(x,y)    \n",
    "\n",
    "    plt.ylabel('Gastos (em milhões de reais)')\n",
    "    plt.title('Evolução de gastos dos parlamentares entre 2009 e 2019')    \n",
    "    \n",
    "    plt.xticks(rotation=60)\n",
    "    plt.grid(True)\n",
    "\n",
    "    plt.show() \n",
    "\n",
    "criar_grafico_gastos_anos(buscar_gastos_totais(2009, 2019))"
   ]
  },
  {
   "cell_type": "code",
   "execution_count": 12,
   "metadata": {},
   "outputs": [
    {
     "data": {
      "image/png": "[encoded data removed]",
      "text/plain": [
       "<Figure size 432x288 with 1 Axes>"
      ]
     },
     "metadata": {
      "needs_background": "light"
     },
     "output_type": "display_data"
    }
   ],
   "source": [
    "# (2) Gráfico de barras mostrando o total dos 20 parlamentares que mais gastaram em 2019:\n",
    "\n",
    "def criar_grafico_gastos_parlamentares_20_maiores(ano, dados): \n",
    "    x = []\n",
    "    y = []\n",
    "    gastos_ordenados = sorted(dados, reverse=True, key=itemgetter(1))\n",
    "   \n",
    "    for parlamentar, gastos in gastos_ordenados[:20]:\n",
    "        x.append(parlamentar)\n",
    "        y.append(float(gastos)/(10**6)) # Em milhões\n",
    "    \n",
    "    plt.bar(np.arange(len(y)), y, width=0.65, color='b')\n",
    "    \n",
    "    plt.title('Os 20 parlamentares com maiores gastos em ' + str(ano))\n",
    "    plt.ylabel('Gasto (em milhões de R$)')\n",
    "    \n",
    "    plt.xticks(np.arange(len(y)), x, rotation=90)\n",
    "    \n",
    "    plt.show()\n",
    "    \n",
    "criar_grafico_gastos_parlamentares_20_maiores(2019, buscar_gastos_totais_por_parlamentar(2019))"
   ]
  },
  {
   "cell_type": "code",
   "execution_count": 13,
   "metadata": {},
   "outputs": [
    {
     "data": {
      "image/png": "[encoded data removed]",
      "text/plain": [
       "<Figure size 432x288 with 1 Axes>"
      ]
     },
     "metadata": {
      "needs_background": "light"
     },
     "output_type": "display_data"
    }
   ],
   "source": [
    "# (3) Gráfico de barras por partido, mostrando os gastos médios de seus parlamentares no ano de 2019:\n",
    "\n",
    "def criar_grafico_gastos_partidos(ano, dados):   \n",
    "    x = []\n",
    "    y = []\n",
    "    gastos_ordenados = sorted(dados, reverse=True, key=itemgetter(1))\n",
    "   \n",
    "    for partido, gastos in gastos_ordenados:\n",
    "        x.append(partido)\n",
    "        y.append(float(gastos)/(10**6)) # Em milhões\n",
    "    \n",
    "    plt.bar(np.arange(len(y)), y, width=0.65, color='b')\n",
    "    \n",
    "    plt.title('Gastos por partidos em ' + str(ano))\n",
    "    plt.ylabel('Gasto (em milhões de R$)')\n",
    "    \n",
    "    plt.xticks(np.arange(len(y)), x, rotation=90)\n",
    "\n",
    "    plt.show()\n",
    "\n",
    "criar_grafico_gastos_partidos(2019, buscar_gastos_totais_por_partido(2019))"
   ]
  },
  {
   "cell_type": "code",
   "execution_count": 14,
   "metadata": {},
   "outputs": [
    {
     "data": {
      "image/png": "[encoded data removed]",
      "text/plain": [
       "<Figure size 432x288 with 1 Axes>"
      ]
     },
     "metadata": {
      "needs_background": "light"
     },
     "output_type": "display_data"
    }
   ],
   "source": [
    "# (4) Gráfico de barras por estado, mostrando os gastos médios de seus parlamentares no ano de 2019:\n",
    "\n",
    "def criar_grafico_gastos_estados(ano, dados):\n",
    "    x = []\n",
    "    y = []\n",
    "    gastos_ordenados = sorted(dados, reverse=True, key=itemgetter(1))\n",
    "   \n",
    "    for estado, gastos in gastos_ordenados:\n",
    "        x.append(estado)\n",
    "        y.append(float(gastos)/(10**6)) # Em milhões\n",
    "    \n",
    "    plt.bar(np.arange(len(y)), y, width=0.65, color='b')\n",
    "    \n",
    "    plt.title('Gastos dos parlamentares por estado em ' + str(ano))\n",
    "    plt.ylabel('Gasto (em milhões de R$)')\n",
    "    \n",
    "    plt.xticks(np.arange(len(y)), x, rotation=90)\n",
    "    \n",
    "    plt.show()\n",
    "    \n",
    "criar_grafico_gastos_estados(2019, buscar_gastos_totais_por_estado(2019))"
   ]
  },
  {
   "cell_type": "code",
   "execution_count": 51,
   "metadata": {},
   "outputs": [],
   "source": [
    "# Respondendo as perguntas:\n",
    "\n",
    "# 1- Houve alguma redução nos gastos com o CEAP nos últimos anos em que o país vive uma crise de arrecadação?\n",
    "# É possível observar pelo Gráfico 1 - Evolução de gastos dos parlamentares entre 2009 e 2019 que por volta de 2017\n",
    "# os gastos por palamentares começou a cair.\n",
    "\n",
    "# 2- Quais os parlamentares mais caros no exercício de 2019?\n",
    "# Segundo o Gráfico 2 - Os 20 parlamentares com maiores gastos em 2019, os parlamentares mais caros foram:\n",
    "# 1° Jhonatan de Jesus |  6° Flaviano Melo      | 11° André Abdon        | 16° Shéridan \n",
    "# 2° Hiran Gonçalves   |  7° Silas Câmara       | 12° Ottaci Nascimento  | 17° Delegado Éder Mauro \n",
    "# 3° Jéssica Sales     |  8° Hildo Rocha        | 13° João Marcelo Souza | 18° Beto Rosado \n",
    "# 4° Afonso Motta      |  9° Wellington Roberto | 14° Hélio Leite        | 19° Edmilson Rodrigues \n",
    "# 5° Perpétua Almeida  | 10° Rafael Motta       | 15° Vinicius Gurgel    | 20° Vaidon Oliveira\n",
    "\n",
    "# 3- Quais os partidos que, na média, mais \"custam\" para o Brasil em termos de auxílios a parlamentares?\n",
    "# Segundo o Gráfico 3 - Gastos por partidos em 2019, em média, os partidos que mais custam para o Brasil são: Patriotas,\n",
    "# Republicanos e PL.\n",
    "\n",
    "# 4- Quais os estados, na média, mais \"custam\" para o Brasil em termos de auxílios a parlamentares? Pelas regras de\n",
    "# liberação dos auxílios para viagem, o esperado é que os estados mais distantes do DF custem mais.\n",
    "# Segundo o Gráfico 4 - Gastos dos parlamentares por estado em 2019, os cinco estados que mais custaram foram Roraima, Bahia,\n",
    "# Pará, Sergipe e Paraíba, estados das regiões Norte e Nordeste (relativamente distantes de DF). Além disso, o Distrito Federal\n",
    "# é o que custa menos.\n",
    "\n"
   ]
  },
  {
   "cell_type": "code",
   "execution_count": null,
   "metadata": {},
   "outputs": [],
   "source": []
  }
 ],
 "metadata": {
  "colab": {
   "name": "10_atividade_interativa.ipynb",
   "provenance": [],
   "toc_visible": true
  },
  "kernelspec": {
   "display_name": "Python 3",
   "language": "python",
   "name": "python3"
  },
  "language_info": {
   "codemirror_mode": {
    "name": "ipython",
    "version": 3
   },
   "file_extension": ".py",
   "mimetype": "text/x-python",
   "name": "python",
   "nbconvert_exporter": "python",
   "pygments_lexer": "ipython3",
   "version": "3.8.5"
  }
 },
 "nbformat": 4,
 "nbformat_minor": 1
}
